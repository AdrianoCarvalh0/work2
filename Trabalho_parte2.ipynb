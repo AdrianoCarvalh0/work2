{
 "cells": [
  {
   "cell_type": "markdown",
   "metadata": {},
   "source": [
    "### Função"
   ]
  },
  {
   "cell_type": "code",
   "execution_count": 10,
   "metadata": {},
   "outputs": [],
   "source": [
    "\n",
    "import os\n",
    "def read_directories(directory, img=None):\n",
    "    # Get a list of filenames in the specified directory\n",
    "    filenames = []\n",
    "    for filename in os.listdir(directory):\n",
    "        if img is not None:\n",
    "            # If 'img' is provided, filter filenames containing it\n",
    "            if img in filename:   \n",
    "                filenames.append(filename)          \n",
    "        else:\n",
    "            filenames.append(filename)    \n",
    "    return filenames"
   ]
  },
  {
   "cell_type": "markdown",
   "metadata": {},
   "source": [
    "### Diretório das imagens"
   ]
  },
  {
   "cell_type": "code",
   "execution_count": 11,
   "metadata": {},
   "outputs": [],
   "source": [
    "\n",
    "dir_images_atlas = f'work1/atlas'\n",
    "dir_images_denoising_non_local_means = f'work1/denoising/non_local_means/images_filtered'\n",
    "dir_out_resampled = f'work1/atlas_resampled'\n",
    "\n",
    "array_images_atlas = read_directories(dir_images_atlas)\n",
    "array_images_denoising = read_directories(dir_images_denoising_non_local_means)\n",
    "array_dir_outputs = read_directories(dir_out_resampled)"
   ]
  },
  {
   "cell_type": "markdown",
   "metadata": {},
   "source": [
    "### Função que muda a direção, orientação, size, origem de uma imagem móvel a partir de uma imagem de referência"
   ]
  },
  {
   "cell_type": "code",
   "execution_count": 12,
   "metadata": {},
   "outputs": [],
   "source": [
    "import SimpleITK as sitk\n",
    "import numpy as np\n",
    "\n",
    "# Função para reamostrar a imagem, ajustando resolução, tamanho e propriedades\n",
    "def resample_image(itk_image, out_spacing, out_size=None, reference_image=None, is_label=False):\n",
    "    resample = sitk.ResampleImageFilter()\n",
    "\n",
    "    # Define o tamanho e o espaçamento\n",
    "    if reference_image is not None:\n",
    "        # Usa as propriedades da imagem de referência\n",
    "        resample.SetSize(reference_image.GetSize())\n",
    "        resample.SetOutputSpacing(reference_image.GetSpacing())\n",
    "        resample.SetOutputDirection(reference_image.GetDirection())\n",
    "        resample.SetOutputOrigin(reference_image.GetOrigin())\n",
    "    else:\n",
    "        original_spacing = itk_image.GetSpacing()\n",
    "        original_size = itk_image.GetSize()\n",
    "        if out_size is None:\n",
    "            # Calcula o novo tamanho baseado no espaçamento\n",
    "            out_size = [\n",
    "                int(np.round(original_size[0] * (original_spacing[0] / out_spacing[0]))),\n",
    "                int(np.round(original_size[1] * (original_spacing[1] / out_spacing[1]))),\n",
    "                int(np.round(original_size[2] * (original_spacing[2] / out_spacing[2])))\n",
    "            ]\n",
    "        resample.SetSize(out_size)\n",
    "        resample.SetOutputSpacing(out_spacing)\n",
    "        resample.SetOutputDirection(itk_image.GetDirection())\n",
    "        resample.SetOutputOrigin(itk_image.GetOrigin())\n",
    "\n",
    "    # Configurações gerais do filtro\n",
    "    resample.SetTransform(sitk.Transform())\n",
    "    resample.SetDefaultPixelValue(itk_image.GetPixelIDValue())\n",
    "\n",
    "    # Escolhe o interpolador com base no tipo da imagem\n",
    "    if is_label:\n",
    "        resample.SetInterpolator(sitk.sitkNearestNeighbor)\n",
    "    else:\n",
    "        resample.SetInterpolator(sitk.sitkBSpline)\n",
    "\n",
    "    return resample.Execute(itk_image)"
   ]
  },
  {
   "cell_type": "markdown",
   "metadata": {},
   "source": [
    "## Execução da função que faz as modificações nas imagens móveis a partir das imagens de referência. \n",
    "\n"
   ]
  },
  {
   "cell_type": "markdown",
   "metadata": {},
   "source": [
    "As imagens modifificadas foram salvas em uma pasta atlas_resampled com o nome da imagem referência contendo as imagens modificadas"
   ]
  },
  {
   "cell_type": "code",
   "execution_count": null,
   "metadata": {},
   "outputs": [],
   "source": [
    "path_reference = f'work1\\denoising/non_local_means/images_filtered/IXI002-Guys-0828-T1.nii.gz'\n",
    "\n",
    "\n",
    "reader = sitk.ImageFileReader()\n",
    "reader.SetFileName(f'{path_reference}')\n",
    "img = reader.Execute()\n",
    "dir_output = f'work1/atlas_resampled/IXI002-Guys-0828-T1.nii.gz'\n",
    "\n",
    "print(\"Informação imagem original:\")\n",
    "print(f\"Tamanho: {img.GetSize()}\")\n",
    "print(f\"Espaçamento: {img.GetSpacing()}\")\n",
    "print(f\"Origem: {img.GetOrigin()}\")\n",
    "print(f\"Direção: {img.GetDirection()}\")\n",
    "print('**************************\\n')\n",
    "\n",
    "for atlas in array_images_atlas:\n",
    "\n",
    "    reader = sitk.ImageFileReader()\n",
    "    reader.SetFileName(f'{dir_images_atlas}/{atlas}')\n",
    "    img_atlas = reader.Execute()\n",
    "    \n",
    "\n",
    "    # Reamostra o atlas para coincidir com a imagem original\n",
    "    img_resampled = resample_image(img_atlas, out_spacing=img.GetSpacing(), reference_image=img)\n",
    "\n",
    "    resample = sitk.ResampleImageFilter()\n",
    "    resample.SetOutputOrigin(img.GetDirection())\n",
    "    resample.Execute(img_resampled)\n",
    "    \n",
    "\n",
    "    print(\"Informação imagem reamostrada:\")\n",
    "    print(f\"Tamanho: {img_resampled.GetSize()}\")\n",
    "    print(f\"Espaçamento: {img_resampled.GetSpacing()}\")\n",
    "    print(f\"Origem: {img_resampled.GetOrigin()}\")\n",
    "    print(f\"Direção: {img_resampled.GetDirection()}\")\n",
    "    print('**************************\\n')\n",
    "\n",
    "    name = atlas\n",
    "\n",
    "    # Salva a imagem reamostrada\n",
    "    writer = sitk.ImageFileWriter()\n",
    "    writer.SetFileName(f\"{dir_output}/{name}\")\n",
    "    writer.Execute(img_resampled)"
   ]
  },
  {
   "cell_type": "markdown",
   "metadata": {},
   "source": [
    "## Nesta parte houve um problema com o salvamento pelo Simple - ITK. As imagens resampled apresentam informações iguais, referente à origem, espaçamento, direração e tamanho, no entanto, quando o SimpleITK grava a direção não é mantida. Por isso optamos em utilizar a transformação e o resampled conforme demonstrado pelo professor."
   ]
  },
  {
   "cell_type": "markdown",
   "metadata": {},
   "source": [
    "## Funções de exibição das imagens"
   ]
  },
  {
   "cell_type": "code",
   "execution_count": 13,
   "metadata": {},
   "outputs": [],
   "source": [
    "%matplotlib inline\n",
    "import matplotlib.pyplot as plt\n",
    "\n",
    "from ipywidgets import interact, fixed\n",
    "from IPython.display import clear_output\n",
    "\n",
    "# Callback invoked by the interact IPython method for scrolling through the image stacks of\n",
    "# the two images (moving and fixed).\n",
    "def display_images(fixed_image_z, moving_image_z, fixed_npa, moving_npa):\n",
    "    # Create a figure with two subplots and the specified size.\n",
    "    plt.subplots(1,2,figsize=(10,8))\n",
    "    \n",
    "    # Draw the fixed image in the first subplot.\n",
    "    plt.subplot(1,2,1)\n",
    "    plt.imshow(fixed_npa[fixed_image_z,:,:],cmap=plt.cm.Greys_r);\n",
    "    plt.title('fixed image')\n",
    "    plt.axis('off')\n",
    "    \n",
    "    # Draw the moving image in the second subplot.\n",
    "    plt.subplot(1,2,2)\n",
    "    plt.imshow(moving_npa[moving_image_z,:,:],cmap=plt.cm.Greys_r);\n",
    "    plt.title('moving image')\n",
    "    plt.axis('off')\n",
    "    \n",
    "    plt.show()\n",
    "\n",
    "# Callback invoked by the IPython interact method for scrolling and modifying the alpha blending\n",
    "# of an image stack of two images that occupy the same physical space. \n",
    "def display_images_with_alpha(image_z, alpha, fixed, moving):\n",
    "    img = (1.0 - alpha)*fixed[:,:,image_z] + alpha*moving[:,:,image_z] \n",
    "    plt.imshow(sitk.GetArrayViewFromImage(img),cmap=plt.cm.Greys_r);\n",
    "    plt.axis('off')\n",
    "    plt.show()\n",
    "    \n",
    "# Callback invoked when the StartEvent happens, sets up our new data.\n",
    "def start_plot():\n",
    "    global metric_values, multires_iterations\n",
    "    \n",
    "    metric_values = []\n",
    "    multires_iterations = []\n",
    "\n",
    "# Callback invoked when the EndEvent happens, do cleanup of data and figure.\n",
    "def end_plot():\n",
    "    global metric_values, multires_iterations\n",
    "    \n",
    "    del metric_values\n",
    "    del multires_iterations\n",
    "    # Close figure, we don't want to get a duplicate of the plot latter on.\n",
    "    plt.close()\n",
    "\n",
    "# Callback invoked when the IterationEvent happens, update our data and display new figure.\n",
    "def plot_values(registration_method):\n",
    "    global metric_values, multires_iterations\n",
    "    \n",
    "    metric_values.append(registration_method.GetMetricValue())                                       \n",
    "    # Clear the output area (wait=True, to reduce flickering), and plot current data\n",
    "    clear_output(wait=True)\n",
    "    # Plot the similarity metric values\n",
    "    plt.plot(metric_values, 'r')\n",
    "    plt.plot(multires_iterations, [metric_values[index] for index in multires_iterations], 'b*')\n",
    "    plt.xlabel('Iteration Number',fontsize=12)\n",
    "    plt.ylabel('Metric Value',fontsize=12)\n",
    "    plt.show()\n",
    "    \n",
    "# Callback invoked when the sitkMultiResolutionIterationEvent happens, update the index into the \n",
    "# metric_values list. \n",
    "def update_multires_iterations():\n",
    "    global metric_values, multires_iterations\n",
    "    multires_iterations.append(len(metric_values))"
   ]
  },
  {
   "cell_type": "markdown",
   "metadata": {},
   "source": [
    "## Execuções para visualização do melhor método de alinhamento."
   ]
  },
  {
   "cell_type": "code",
   "execution_count": 6,
   "metadata": {},
   "outputs": [
    {
     "data": {
      "application/vnd.jupyter.widget-view+json": {
       "model_id": "dd84efca59e643d39db5ed677edd806b",
       "version_major": 2,
       "version_minor": 0
      },
      "text/plain": [
       "interactive(children=(IntSlider(value=74, description='image_z', max=149), FloatSlider(value=0.5, description=…"
      ]
     },
     "metadata": {},
     "output_type": "display_data"
    }
   ],
   "source": [
    "from ipywidgets import interact, fixed\n",
    "from IPython.display import clear_output\n",
    "\n",
    "path_reference = f'work1/denoising/non_local_means/images_filtered/IXI002-Guys-0828-T1.nii.gz'\n",
    "path_atlas = f'work1/atlas/mni_csf.nii.gz'\n",
    "\n",
    "reader = sitk.ImageFileReader()\n",
    "reader.SetFileName(f'{path_reference}')\n",
    "fix_img = reader.Execute()\n",
    "fix_img_f32 = sitk.Cast(fix_img, sitk.sitkFloat32)\n",
    "\n",
    "reader = sitk.ImageFileReader()\n",
    "reader.SetFileName(f'{path_atlas}')\n",
    "img_atlas = reader.Execute()\n",
    "mov_img_f32 = sitk.Cast(img_atlas, sitk.sitkFloat32)\n",
    "\n",
    "\n",
    "#\n",
    "# inicialização baseada em translação, alinha os centros geométricos das imagens \n",
    "# ou os centros de massa baseados na intensidade dos conteúdos da imagem. \n",
    "#\n",
    "initial_transform = sitk.CenteredTransformInitializer( fix_img_f32, \n",
    "                                                       mov_img_f32, \n",
    "                                                       sitk.AffineTransform(3), \n",
    "                                                       sitk.CenteredTransformInitializerFilter.GEOMETRY )\n",
    "\n",
    "mov_resampled = sitk.Resample( mov_img_f32, fix_img_f32, \n",
    "                               initial_transform, \n",
    "                               sitk.sitkLinear, \n",
    "                               0.0, \n",
    "                               mov_img_f32.GetPixelID() )\n",
    "\n",
    "interact( display_images_with_alpha, \n",
    "          image_z = (0,fix_img_f32.GetSize()[2]-1), \n",
    "          alpha   = (0.0,1.0,0.05), \n",
    "          fixed   = fixed(fix_img_f32), \n",
    "          moving  = fixed(mov_resampled) );"
   ]
  },
  {
   "cell_type": "markdown",
   "metadata": {},
   "source": [
    "Várias imagens referência foram utilizadas e vários métodos foram testados. Por meio dessas verificações o método com os melhores resultados foi:  sitk.AffineTransform(3), \n",
    "                                                       sitk.CenteredTransformInitializerFilter.GEOMETRY \n",
    "\n",
    "Exemplo de aproximação realizada por esses algoritmos: \n",
    "\n",
    "<img src=\"transformacoes.png\">"
   ]
  },
  {
   "cell_type": "markdown",
   "metadata": {},
   "source": [
    "## Gravação das imagens resampled e alinhadas a partir de uma referência na pasta atlas_resampled, cada uma contendo uma pasta com o nome da imagem referência e seus respectivos atlas móveis alinhados."
   ]
  },
  {
   "cell_type": "code",
   "execution_count": 14,
   "metadata": {},
   "outputs": [],
   "source": [
    "dir_output = f'work1/atlas_resampled'\n",
    "\n",
    "for image in array_images_denoising:    \n",
    "\n",
    "    reader = sitk.ImageFileReader()\n",
    "    reader.SetFileName(f'{dir_images_denoising_non_local_means}/{image}')\n",
    "    img_fix = reader.Execute()\n",
    "    fix_img_f32 = sitk.Cast(img_fix, sitk.sitkFloat32)\n",
    "\n",
    "    for atlas in array_images_atlas:\n",
    "\n",
    "        reader = sitk.ImageFileReader()\n",
    "        reader.SetFileName(f'{dir_images_atlas}/{atlas}')\n",
    "        img_atlas = reader.Execute()\n",
    "        mov_img_f32 = sitk.Cast(img_atlas, sitk.sitkFloat32)\n",
    "        \n",
    "\n",
    "        initial_transform = sitk.CenteredTransformInitializer( fix_img_f32, \n",
    "                                                        mov_img_f32, \n",
    "                                                        sitk.AffineTransform(3), \n",
    "                                                        sitk.CenteredTransformInitializerFilter.GEOMETRY )\n",
    "\n",
    "        mov_resampled = sitk.Resample( mov_img_f32, fix_img_f32, \n",
    "                                initial_transform, \n",
    "                                sitk.sitkLinear, \n",
    "                                0.0, \n",
    "                                mov_img_f32.GetPixelID() )\n",
    "        \n",
    "        name = f'{image}/{atlas}'        \n",
    "        writer = sitk.ImageFileWriter()\n",
    "        writer.SetFileName(f\"{dir_output}/{name}\")\n",
    "        writer.Execute(mov_resampled)"
   ]
  },
  {
   "cell_type": "code",
   "execution_count": 7,
   "metadata": {},
   "outputs": [],
   "source": [
    "def registration(img_fix, img_mov):\n",
    "\n",
    "    # Instancia a classe \"ImageRegistrationMethod\"  \n",
    "    registration_method = sitk.ImageRegistrationMethod()\n",
    "\n",
    "    # Métrica de similaridade - ajuste dos parâmetros.\n",
    "    registration_method.SetMetricAsMattesMutualInformation( numberOfHistogramBins=50 )\n",
    "    registration_method.SetMetricSamplingStrategy( registration_method.RANDOM )\n",
    "    registration_method.SetMetricSamplingPercentage( 0.01 )\n",
    "\n",
    "    # Interpolador a ser utilizado. \n",
    "    registration_method.SetInterpolator( sitk.sitkLinear )\n",
    "\n",
    "    # Otimizador - ajuste dos parâmetros.\n",
    "    registration_method.SetOptimizerAsGradientDescent(learningRate=1.0, numberOfIterations=100, convergenceMinimumValue=1e-6, convergenceWindowSize=10)\n",
    "    registration_method.SetOptimizerScalesFromPhysicalShift()\n",
    "\n",
    "    # Ajusta um framework para processamento multiresolução.            \n",
    "    registration_method.SetShrinkFactorsPerLevel( shrinkFactors = [4,2,1] )\n",
    "    registration_method.SetSmoothingSigmasPerLevel( smoothingSigmas=[2,1,0] )\n",
    "    registration_method.SmoothingSigmasAreSpecifiedInPhysicalUnitsOn()\n",
    "\n",
    "    # Indica para não otimizar \"in-place\" pois talvez iremos executar essa célula várias vezes\n",
    "    registration_method.SetInitialTransform( initial_transform, inPlace=False )\n",
    "\n",
    "    # Conecta todos os observadores de maneira que possamos plotar informações durante o processo de corregistro\n",
    "    registration_method.AddCommand( sitk.sitkStartEvent, start_plot )\n",
    "    registration_method.AddCommand( sitk.sitkEndEvent, end_plot )\n",
    "    registration_method.AddCommand( sitk.sitkMultiResolutionIterationEvent, update_multires_iterations ) \n",
    "    registration_method.AddCommand( sitk.sitkIterationEvent, lambda: plot_values(registration_method) )\n",
    "\n",
    "    # Finalmente executa o corregistro\n",
    "    final_transform = registration_method.Execute( sitk.Cast(img_fix, sitk.sitkFloat32), \n",
    "                                                sitk.Cast(img_mov, sitk.sitkFloat32) )\n",
    "    \n",
    "    print(f'Final metric value: {registration_method.GetMetricValue()}')\n",
    "    print(f'Optimizer\\'s stopping condition, {registration_method.GetOptimizerStopConditionDescription()}')\n",
    "    \n",
    "    return final_transform"
   ]
  },
  {
   "cell_type": "code",
   "execution_count": 9,
   "metadata": {},
   "outputs": [
    {
     "data": {
      "image/png": "[encoded data removed]",
      "text/plain": [
       "<Figure size 640x480 with 1 Axes>"
      ]
     },
     "metadata": {},
     "output_type": "display_data"
    },
    {
     "name": "stdout",
     "output_type": "stream",
     "text": [
      "Final metric value: -0.29793558388695046\n",
      "Optimizer's stopping condition, GradientDescentOptimizerv4Template: Convergence checker passed at iteration 46.\n"
     ]
    }
   ],
   "source": [
    "dir_output = f'work1/final_transform'\n",
    "\n",
    "for image in array_images_denoising:    \n",
    "\n",
    "    reader = sitk.ImageFileReader()\n",
    "    reader.SetFileName(f'{dir_images_denoising_non_local_means}/{image}')\n",
    "    img_fix = reader.Execute()\n",
    "    fix_img_f32 = sitk.Cast(img_fix, sitk.sitkFloat32)\n",
    "\n",
    "    for atlas in array_images_atlas:\n",
    "\n",
    "        reader = sitk.ImageFileReader()\n",
    "        reader.SetFileName(f'{dir_images_atlas}/{atlas}')\n",
    "        img_atlas = reader.Execute()\n",
    "        mov_img_f32 = sitk.Cast(img_atlas, sitk.sitkFloat32)\n",
    "\n",
    "        final_transform = registration(fix_img_f32, mov_img_f32)\n",
    "\n",
    "        dir_output_final_transform = f'{dir_output}/{image}/'  \n",
    "\n",
    "        name = atlas.split(\".nii.gz\")   \n",
    "        name_tfm = f'{name[0]}.tfm'\n",
    "        \n",
    "        sitk.WriteTransform( final_transform, os.path.join(dir_output_final_transform, name_tfm ))\n"
   ]
  },
  {
   "cell_type": "markdown",
   "metadata": {},
   "source": [
    "## Validação utilizando  o método sitk.CheckerBoard para várias imagens"
   ]
  },
  {
   "cell_type": "code",
   "execution_count": 7,
   "metadata": {},
   "outputs": [
    {
     "data": {
      "application/vnd.jupyter.widget-view+json": {
       "model_id": "8a5f0a95ae964e0ead7865eeb23e8844",
       "version_major": 2,
       "version_minor": 0
      },
      "text/plain": [
       "interactive(children=(IntSlider(value=74, description='image_z', max=149), FloatSlider(value=0.5, description=…"
      ]
     },
     "metadata": {},
     "output_type": "display_data"
    },
    {
     "data": {
      "text/plain": [
       "<function __main__.display_images_with_alpha(image_z, alpha, fixed, moving)>"
      ]
     },
     "execution_count": 7,
     "metadata": {},
     "output_type": "execute_result"
    }
   ],
   "source": [
    "\n",
    "path_reference = f'work1/denoising/non_local_means/images_filtered/IXI002-Guys-0828-T1.nii.gz'\n",
    "\n",
    "path_atlas = f'work1/atlas_resampled/IXI002-Guys-0828-T1.nii.gz/mni_csf.nii.gz'\n",
    "\n",
    "reader = sitk.ImageFileReader()\n",
    "reader.SetFileName(f'{path_reference}')\n",
    "fix_img = reader.Execute()\n",
    "fix_img_f32 = sitk.Cast(fix_img, sitk.sitkFloat32)\n",
    "\n",
    "\n",
    "reader = sitk.ImageFileReader()\n",
    "reader.SetFileName(f'{path_atlas}')\n",
    "img_atlas = reader.Execute()\n",
    "mov_img_f32 = sitk.Cast(img_atlas, sitk.sitkFloat32)\n",
    "\n",
    "\n",
    "img_cboard = sitk.CheckerBoard( fix_img_f32, mov_img_f32, [8,8,8] )\n",
    "\n",
    "interact( display_images_with_alpha, \n",
    "          image_z = (0,fix_img_f32.GetSize()[2]-1), \n",
    "          alpha   = (0.0,1.0,0.05), \n",
    "          fixed   = fixed(fix_img_f32), \n",
    "          moving  = fixed(img_cboard) )"
   ]
  },
  {
   "cell_type": "code",
   "execution_count": 8,
   "metadata": {},
   "outputs": [
    {
     "data": {
      "application/vnd.jupyter.widget-view+json": {
       "model_id": "f57012fd60934260b6317cad212a35a0",
       "version_major": 2,
       "version_minor": 0
      },
      "text/plain": [
       "interactive(children=(IntSlider(value=74, description='image_z', max=149), FloatSlider(value=0.5, description=…"
      ]
     },
     "metadata": {},
     "output_type": "display_data"
    },
    {
     "data": {
      "text/plain": [
       "<function __main__.display_images_with_alpha(image_z, alpha, fixed, moving)>"
      ]
     },
     "execution_count": 8,
     "metadata": {},
     "output_type": "execute_result"
    }
   ],
   "source": [
    "path_reference = f'work1/denoising/non_local_means/images_filtered/IXI014-HH-1236-T1.nii.gz'\n",
    "\n",
    "path_atlas = f'work1/atlas_resampled/IXI014-HH-1236-T1.nii.gz/mni_gm.nii.gz'\n",
    "\n",
    "reader = sitk.ImageFileReader()\n",
    "reader.SetFileName(f'{path_reference}')\n",
    "fix_img = reader.Execute()\n",
    "fix_img_f32 = sitk.Cast(fix_img, sitk.sitkFloat32)\n",
    "\n",
    "\n",
    "reader = sitk.ImageFileReader()\n",
    "reader.SetFileName(f'{path_atlas}')\n",
    "img_atlas = reader.Execute()\n",
    "mov_img_f32 = sitk.Cast(img_atlas, sitk.sitkFloat32)\n",
    "\n",
    "\n",
    "img_cboard = sitk.CheckerBoard( fix_img_f32, mov_img_f32, [8,8,8] )\n",
    "\n",
    "interact( display_images_with_alpha, \n",
    "          image_z = (0,fix_img_f32.GetSize()[2]-1), \n",
    "          alpha   = (0.0,1.0,0.05), \n",
    "          fixed   = fixed(fix_img_f32), \n",
    "          moving  = fixed(img_cboard) )"
   ]
  },
  {
   "cell_type": "code",
   "execution_count": 9,
   "metadata": {},
   "outputs": [
    {
     "data": {
      "application/vnd.jupyter.widget-view+json": {
       "model_id": "0754df09b89e401ea6c23e170727ca63",
       "version_major": 2,
       "version_minor": 0
      },
      "text/plain": [
       "interactive(children=(IntSlider(value=74, description='image_z', max=149), FloatSlider(value=0.5, description=…"
      ]
     },
     "metadata": {},
     "output_type": "display_data"
    },
    {
     "data": {
      "text/plain": [
       "<function __main__.display_images_with_alpha(image_z, alpha, fixed, moving)>"
      ]
     },
     "execution_count": 9,
     "metadata": {},
     "output_type": "execute_result"
    }
   ],
   "source": [
    "path_reference = f'work1/denoising/non_local_means/images_filtered/IXI015-HH-1258-T1.nii.gz'\n",
    "\n",
    "path_atlas = f'work1/atlas_resampled/IXI015-HH-1258-T1.nii.gz/mni_mask.nii.gz'\n",
    "\n",
    "reader = sitk.ImageFileReader()\n",
    "reader.SetFileName(f'{path_reference}')\n",
    "fix_img = reader.Execute()\n",
    "fix_img_f32 = sitk.Cast(fix_img, sitk.sitkFloat32)\n",
    "\n",
    "\n",
    "reader = sitk.ImageFileReader()\n",
    "reader.SetFileName(f'{path_atlas}')\n",
    "img_atlas = reader.Execute()\n",
    "mov_img_f32 = sitk.Cast(img_atlas, sitk.sitkFloat32)\n",
    "\n",
    "\n",
    "img_cboard = sitk.CheckerBoard( fix_img_f32, mov_img_f32, [8,8,8] )\n",
    "\n",
    "interact( display_images_with_alpha, \n",
    "          image_z = (0,fix_img_f32.GetSize()[2]-1), \n",
    "          alpha   = (0.0,1.0,0.05), \n",
    "          fixed   = fixed(fix_img_f32), \n",
    "          moving  = fixed(img_cboard) )"
   ]
  }
 ],
 "metadata": {
  "kernelspec": {
   "display_name": ".venv",
   "language": "python",
   "name": "python3"
  },
  "language_info": {
   "codemirror_mode": {
    "name": "ipython",
    "version": 3
   },
   "file_extension": ".py",
   "mimetype": "text/x-python",
   "name": "python",
   "nbconvert_exporter": "python",
   "pygments_lexer": "ipython3",
   "version": "3.9.13"
  }
 },
 "nbformat": 4,
 "nbformat_minor": 2
}
