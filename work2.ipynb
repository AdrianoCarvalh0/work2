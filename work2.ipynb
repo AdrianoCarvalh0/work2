{
 "cells": [
  {
   "cell_type": "markdown",
   "metadata": {},
   "source": [
    "## Desenvolvimento da 1a Etapa"
   ]
  },
  {
   "cell_type": "markdown",
   "metadata": {},
   "source": [
    "### Função"
   ]
  },
  {
   "cell_type": "code",
   "execution_count": 2,
   "metadata": {},
   "outputs": [],
   "source": [
    "import os\n",
    "def read_directories(directory, img=None):\n",
    "    # Get a list of filenames in the specified directory\n",
    "    filenames = []\n",
    "    for filename in os.listdir(directory):\n",
    "        if img is not None:\n",
    "            # If 'img' is provided, filter filenames containing it\n",
    "            if img in filename:   \n",
    "                filenames.append(filename)          \n",
    "        else:\n",
    "            filenames.append(filename)    \n",
    "    return filenames"
   ]
  },
  {
   "cell_type": "markdown",
   "metadata": {},
   "source": [
    "### Diretório das imagens"
   ]
  },
  {
   "cell_type": "code",
   "execution_count": 3,
   "metadata": {},
   "outputs": [],
   "source": [
    "dir_images = f'work2/images_filtered'\n",
    "dir_atlas = f'work2/atlas_resampled'\n",
    "array_images = read_directories(dir_images)\n",
    "array_atlas = read_directories(dir_atlas)"
   ]
  },
  {
   "cell_type": "code",
   "execution_count": null,
   "metadata": {},
   "outputs": [],
   "source": []
  }
 ],
 "metadata": {
  "kernelspec": {
   "display_name": ".venv",
   "language": "python",
   "name": "python3"
  },
  "language_info": {
   "codemirror_mode": {
    "name": "ipython",
    "version": 3
   },
   "file_extension": ".py",
   "mimetype": "text/x-python",
   "name": "python",
   "nbconvert_exporter": "python",
   "pygments_lexer": "ipython3",
   "version": "3.9.13"
  }
 },
 "nbformat": 4,
 "nbformat_minor": 2
}
