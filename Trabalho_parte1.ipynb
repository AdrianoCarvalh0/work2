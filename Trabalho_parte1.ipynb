{
 "cells": [
  {
   "cell_type": "markdown",
   "metadata": {},
   "source": [
    "# Programa de Pós-graduação em Ciência da Computação (PPGCC) da UFSCar\n",
    "# Disciplina: Processamento Digital de Imagens 3D e Vídeos\n",
    "## Professor: Ricardo José Ferrari\n",
    "### Alunos: \n",
    "### Adriano dos Reis Carvalho\n",
    "### Rodrigo César Evangelista \n",
    "# TRABALHO PRÁTICO"
   ]
  },
  {
   "cell_type": "markdown",
   "metadata": {},
   "source": [
    "## 1 Tarefa\n",
    "### Quantificação volumétrica das substâncias branca (WM), cinzenta (GM) e líquido cefalorraquidiano (CSF) do cérebro humano em imagens de Ressonância Magnética (MR), utilizando segmentação não supervisionada (K- Médias) e atlas probabilísticos dos tecidos cerebrais."
   ]
  },
  {
   "cell_type": "markdown",
   "metadata": {},
   "source": [
    "## 2 Materiais e Métodos\n",
    "## 2.1 Imagens\n",
    "### Esse projeto fará uso de cinco imagens de imagens de RM T1-weighted (se diz, T1-ponderada), pois fornecem uma melhor definição da anatomia do cérebro humano, e de um atlas probabilístico dos 3 principais tecidos cerebrais (GM, WM e CSF). As imagens que compõem o atlas probabilístico estão alinhadas espacialmente com a imagem de referência T1-w e possuem níveis de cinza que variam entre 0 e 1. Os níveis de cinza em cada posição espacial (x,y,z) se completam para a probabilidade de 100%. Ou seja, para uma dada posição espacial (x,y,z) tem-se: Px,y,z (WM) + Px,y,z (GM) + Px,y,z (CSF) = 1\n",
    "## 2.2 Métodos\n",
    "### O desenvolvimento do projeto deverá ser realizado usando a linguagem python (versão 3.12 ou maior) e a entrega deverá ser feita na forma de um arquivo jupyter notebook. O aluno deverá criar e utilizar um ambiente virtual e, juntamente com a entrega do notebook, o aluno deverá também entregar o arquivo “requirements.txt” (“pip3 freeze > requirements.txt”) para que eu possa reproduzir o ambiente virtual e avaliar o projeto. O projeto que não for funcional, ou seja, se os métodos não puderem ser executados por erro, receberá nota ZERO. A seguir, é indicada a sequência de etapas que deverá ser implementada."
   ]
  },
  {
   "cell_type": "markdown",
   "metadata": {},
   "source": [
    "## 2.3 Sequência de etapas\n",
    "### Com base nas técnicas apresentadas em aula, o aluno deverá implementar funções em python3 para a realização das seguintes etapas do pipeline do projeto:\n",
    "\n",
    "## • 1a Etapa\n",
    "### – Redução de ruído das imagens (denoising).\n",
    "### – O aluno deve avaliar os resultados da redução de ruído nas imagens utilizando os algoritmos Filtro Bilateral, Filtro de Difusão Anisotrópica e Filtro de Média Não-Local. A avaliação deve ser qualitativa, escolhendo o método vitorioso com base na redução de ruído enquanto preserva os detalhes da imagem. Isso pode ser feito analisando o valor absoluto da diferença entre as imagens, ou seja, G = |Ioriginal − Idenoised|. Se a imagem G contiver estruturas nítidas e coerentes com a anatomia do cérebro, isso indica que, além do ruído, o algoritmo também removeu informações importantes da imagem. Por outro lado, se a imagem Idenoised contiver ruídos visíveis, isso indica que o algoritmo não foi eficaz na remoção do ruído."
   ]
  },
  {
   "cell_type": "markdown",
   "metadata": {},
   "source": [
    "## Desenvolvimento da 1a Etapa"
   ]
  },
  {
   "cell_type": "markdown",
   "metadata": {},
   "source": [
    "### Função"
   ]
  },
  {
   "cell_type": "code",
   "execution_count": 2,
   "metadata": {},
   "outputs": [],
   "source": [
    "import os\n",
    "def read_directories(directory, img=None):\n",
    "    # Get a list of filenames in the specified directory\n",
    "    filenames = []\n",
    "    for filename in os.listdir(directory):\n",
    "        if img is not None:\n",
    "            # If 'img' is provided, filter filenames containing it\n",
    "            if img in filename:   \n",
    "                filenames.append(filename)          \n",
    "        else:\n",
    "            filenames.append(filename)    \n",
    "    return filenames"
   ]
  },
  {
   "cell_type": "markdown",
   "metadata": {},
   "source": [
    "### Diretório das imagens"
   ]
  },
  {
   "cell_type": "code",
   "execution_count": 3,
   "metadata": {},
   "outputs": [],
   "source": [
    "dir_images = f'work1/clinical_images'\n",
    "array_images = read_directories(dir_images)"
   ]
  },
  {
   "cell_type": "markdown",
   "metadata": {},
   "source": [
    "### – O aluno deve avaliar os resultados da redução de ruído nas imagens utilizando os algoritmos Filtro Bilateral, Filtro de Difusão Anisotrópica e Filtro de Média Não-Local."
   ]
  },
  {
   "cell_type": "markdown",
   "metadata": {},
   "source": [
    "### Aplicando o Filtro Anisotrópico"
   ]
  },
  {
   "cell_type": "code",
   "execution_count": 4,
   "metadata": {},
   "outputs": [
    {
     "name": "stdout",
     "output_type": "stream",
     "text": [
      "Filtered image using SimpleITK saved to work1/denoising/anisotropicDiffusion/IXI012-HH-1211-T1.nii.gz\n",
      "Execution time: 5 seconds \n",
      "\n",
      "Filtered image using SimpleITK saved to work1/denoising/anisotropicDiffusion/IXI013-HH-1212-T1.nii.gz\n",
      "Execution time: 6 seconds \n",
      "\n",
      "Filtered image using SimpleITK saved to work1/denoising/anisotropicDiffusion/IXI015-HH-1258-T1.nii.gz\n",
      "Execution time: 5 seconds \n",
      "\n",
      "Filtered image using SimpleITK saved to work1/denoising/anisotropicDiffusion/IXI002-Guys-0828-T1.nii.gz\n",
      "Execution time: 5 seconds \n",
      "\n",
      "Filtered image using SimpleITK saved to work1/denoising/anisotropicDiffusion/IXI014-HH-1236-T1.nii.gz\n",
      "Execution time: 5 seconds \n",
      "\n"
     ]
    }
   ],
   "source": [
    "import SimpleITK as sitk\n",
    "import time\n",
    "\n",
    "def apply_anisotropic_diffusion_sitk(image_path, time_step, conductance, iterations, output_path):\n",
    "    \"\"\"\n",
    "    Apply a 3D anisotropic diffusion filter to a 3D image using SimpleITK.\n",
    "    \n",
    "    Parameters:\n",
    "    - image_path (str): Path to the input 3D image.\n",
    "    - time_step (float): The time step for the diffusion process.\n",
    "    - conductance (float): The conductance parameter for the diffusion process.\n",
    "    - iterations (int): Number of iterations for the diffusion process.\n",
    "    - output_path (str): Path to save the filtered image.\n",
    "    \"\"\"\n",
    "    # Load the image\n",
    "    image = sitk.ReadImage(image_path)\n",
    "    \n",
    "    # Cast the image to a supported pixel type (float32)\n",
    "    image = sitk.Cast(image, sitk.sitkFloat32)\n",
    "    \n",
    "    # Execution time\n",
    "    inicio = time.time()\n",
    "\n",
    "    # Apply Anisotropic Diffusion filter\n",
    "    # Create an instance of the anisotropic diffusion filter\n",
    "    anisotropic_diffusion_filter = sitk.CurvatureAnisotropicDiffusionImageFilter()\n",
    "    # Set the time step for the filter, ensuring stability of the algorithm\n",
    "    anisotropic_diffusion_filter.SetTimeStep(time_step)\n",
    "    # Set the conductance parameter, controlling the sensitivity to edges in the image\n",
    "    anisotropic_diffusion_filter.SetConductanceParameter(conductance)\n",
    "    # Set the number of iterations for the diffusion process\n",
    "    anisotropic_diffusion_filter.SetNumberOfIterations(iterations)\n",
    "    # Apply the filter to the input image and obtain the filtered result\n",
    "    filtered_image = anisotropic_diffusion_filter.Execute(image)\n",
    "    \n",
    "    # Execution time\n",
    "    fim = time.time()\n",
    "    tempo = fim - inicio\n",
    "    \n",
    "    # Save the filtered image\n",
    "    sitk.WriteImage(filtered_image, output_path)\n",
    "    print(f\"Filtered image using SimpleITK saved to {output_path}\")\n",
    "    print('Execution time: %d seconds \\n'%(tempo))\n",
    "\n",
    "\n",
    "# Example usage\n",
    "if __name__ == \"__main__\":\n",
    "    array_images = read_directories(dir_images)    \n",
    "    dir_output = f'work1/denoising/anisotropicDiffusion'  \n",
    "    time_step, conductance, iterations =  0.0585, 1.0, 10\n",
    "    #time_step, conductance, iterations =  0.0625, 1.0, 10 #Fiz alteração no item time_step\n",
    "\n",
    "    for image in array_images:    \n",
    "        output_name = f'{image}'\n",
    "        apply_anisotropic_diffusion_sitk(f'{dir_images}/{image}', time_step, conductance, iterations, f'{dir_output}/{output_name}')\n",
    "        "
   ]
  },
  {
   "cell_type": "markdown",
   "metadata": {},
   "source": [
    "### Aplicando o Filtro Non Local Means (Skimage)"
   ]
  },
  {
   "cell_type": "code",
   "execution_count": 5,
   "metadata": {},
   "outputs": [
    {
     "name": "stdout",
     "output_type": "stream",
     "text": [
      "Filtered image using scikit-image saved to work1/denoising/non_local_means/IXI012-HH-1211-T1.nii.gz\n",
      "Execution time: 136 seconds \n",
      "\n",
      "Filtered image using scikit-image saved to work1/denoising/non_local_means/IXI013-HH-1212-T1.nii.gz\n",
      "Execution time: 137 seconds \n",
      "\n",
      "Filtered image using scikit-image saved to work1/denoising/non_local_means/IXI015-HH-1258-T1.nii.gz\n",
      "Execution time: 140 seconds \n",
      "\n",
      "Filtered image using scikit-image saved to work1/denoising/non_local_means/IXI002-Guys-0828-T1.nii.gz\n",
      "Execution time: 146 seconds \n",
      "\n",
      "Filtered image using scikit-image saved to work1/denoising/non_local_means/IXI014-HH-1236-T1.nii.gz\n",
      "Execution time: 141 seconds \n",
      "\n"
     ]
    }
   ],
   "source": [
    "import numpy as np\n",
    "from skimage.restoration import denoise_nl_means, estimate_sigma\n",
    "import nibabel as nib\n",
    "from pathlib import Path\n",
    "\n",
    "def apply_nonlocal_means_skimage(image_path, patch_size, patch_distance, h, fast_mode, output_path):\n",
    "    \"\"\"\n",
    "    Apply a 3D Non-Local Means filter to a 3D image using scikit-image.\n",
    "    \n",
    "    Parameters:\n",
    "    - image_path (str): Path to the input 3D image.\n",
    "    - patch_size (int): The size of the patches used for denoising.\n",
    "    - patch_distance (int): The distance for the neighborhood search.\n",
    "    - h (float): The filtering parameter.\n",
    "    - fast_mode (bool): Whether to use the fast mode or not.\n",
    "    - output_path (str): Path to save the filtered image.\n",
    "    \"\"\"\n",
    "    # Load the image\n",
    "    image = nib.load(image_path)\n",
    "    image_data = image.get_fdata()\n",
    "    \n",
    "    # Estimate the noise standard deviation from the noisy image\n",
    "    sigma_est = np.mean(estimate_sigma(image_data))\n",
    "\n",
    "    # Execution time\n",
    "    inicio = time.time()\n",
    "\n",
    "    # Apply Non-Local Means filter\n",
    "    # image_data: The input image to be denoised.\n",
    "    # patch_size: Size of the patches used for comparison in the filter (e.g., 7x7 pixels).\n",
    "    # patch_distance: Maximum distance between patches used in the filtering.\n",
    "    # h: Filtering strength, controlling the degree of smoothing. Often scaled by the estimated noise level (`sigma_est`).\n",
    "    # fast_mode: If `True`, uses a faster approximation algorithm at the cost of slightly reduced accuracy.\n",
    "    denoised_image = denoise_nl_means(image_data, patch_size=patch_size, patch_distance=patch_distance, h=h*sigma_est, fast_mode=fast_mode)\n",
    "\n",
    "    # Execution time\n",
    "    fim = time.time()\n",
    "    tempo = fim - inicio\n",
    "\n",
    "    # Save the filtered image\n",
    "    denoised_image_nib = nib.Nifti1Image(denoised_image, image.affine)\n",
    "    nib.save(denoised_image_nib, output_path)\n",
    "    print(f\"Filtered image using scikit-image saved to {output_path}\")\n",
    "    print('Execution time: %d seconds \\n'%(tempo))\n",
    "\n",
    "# Example usage\n",
    "if __name__ == \"__main__\":\n",
    "    array_images = read_directories(dir_images)    \n",
    "    dir_output = f'work1/denoising/non_local_means'\n",
    "    i = 0\n",
    "    patch_size, patch_distance, h = 3, 5, 1.15\n",
    "    for image in array_images:    \n",
    "        output_name = f'{image}'\n",
    "        apply_nonlocal_means_skimage(f'{dir_images}/{image}',  patch_size, patch_distance, h, True, f'{dir_output}/{output_name}')"
   ]
  },
  {
   "cell_type": "markdown",
   "metadata": {},
   "source": [
    "### Aplicando o Filtro Bilateral"
   ]
  },
  {
   "cell_type": "code",
   "execution_count": 6,
   "metadata": {},
   "outputs": [
    {
     "name": "stdout",
     "output_type": "stream",
     "text": [
      "Filtered image using SimpleITK saved to work1/denoising/bilateral/tIXI012-HH-1211-T1.nii.gz\n",
      "Execution time: 28 seconds \n",
      "\n",
      "Filtered image using SimpleITK saved to work1/denoising/bilateral/tIXI013-HH-1212-T1.nii.gz\n",
      "Execution time: 28 seconds \n",
      "\n",
      "Filtered image using SimpleITK saved to work1/denoising/bilateral/tIXI015-HH-1258-T1.nii.gz\n",
      "Execution time: 27 seconds \n",
      "\n",
      "Filtered image using SimpleITK saved to work1/denoising/bilateral/tIXI002-Guys-0828-T1.nii.gz\n",
      "Execution time: 26 seconds \n",
      "\n",
      "Filtered image using SimpleITK saved to work1/denoising/bilateral/tIXI014-HH-1236-T1.nii.gz\n",
      "Execution time: 28 seconds \n",
      "\n"
     ]
    }
   ],
   "source": [
    "import SimpleITK as sitk\n",
    "\n",
    "def apply_bilateral_filter_sitk(image_path, domain_sigma, range_sigma, output_path):\n",
    "    \"\"\"\n",
    "    Apply a 3D bilateral filter to a 3D image using SimpleITK.\n",
    "    \n",
    "    Parameters:\n",
    "    - image_path (str): Path to the input 3D image.\n",
    "    - domain_sigma (float): The standard deviation for the spatial Gaussian kernel.\n",
    "    - range_sigma (float): The standard deviation for the range Gaussian kernel.\n",
    "    - output_path (str): Path to save the filtered image.\n",
    "    \"\"\"\n",
    "    # Load the image\n",
    "    image = sitk.ReadImage(image_path)\n",
    "    \n",
    "    # Execution time\n",
    "    inicio = time.time()\n",
    "\n",
    "    # Apply Bilateral filter\n",
    "    # Create an instance of the Bilateral filter\n",
    "    bilateral_filter = sitk.BilateralImageFilter()\n",
    "    # Set the domain sigma, which determines the spatial extent of the filter\n",
    "    bilateral_filter.SetDomainSigma(domain_sigma)\n",
    "    # Set the range sigma, which controls how differences in intensity values are treated\n",
    "    bilateral_filter.SetRangeSigma(range_sigma)\n",
    "    # Apply the filter to the input image and obtain the filtered result\n",
    "    filtered_image = bilateral_filter.Execute(image)\n",
    "\n",
    "    # Execution time\n",
    "    fim = time.time()\n",
    "    tempo = fim - inicio\n",
    "\n",
    "    # Save the filtered image\n",
    "    sitk.WriteImage(filtered_image, output_path)\n",
    "    print(f\"Filtered image using SimpleITK saved to {output_path}\")\n",
    "    print('Execution time: %d seconds \\n'%(tempo))\n",
    "\n",
    "if __name__ == \"__main__\":\n",
    "    array_images = read_directories(dir_images)\n",
    "    dir_output = f'work1/denoising/bilateral'\n",
    "    domain_sigma, range_sigma =  2.0, 50.0   \n",
    "\n",
    "for image in array_images:    \n",
    "    output_name = f't{image}'\n",
    "    apply_bilateral_filter_sitk(f'{dir_images}/{image}', domain_sigma, range_sigma, f'{dir_output}/{output_name}')    \n"
   ]
  },
  {
   "cell_type": "markdown",
   "metadata": {},
   "source": [
    "## G - Images\n",
    "\n",
    "### A avaliação deve ser qualitativa, escolhendo o método vitorioso com base na redução de ruído enquanto preserva os detalhes da imagem. Isso pode ser feito analisando o valor absoluto da diferença entre as imagens, ou seja, G = |Ioriginal − Idenoised|. Se a imagem G contiver estruturas nítidas e coerentes com a anatomia do cérebro, isso indica que, além do ruído, o algoritmo também removeu informações importantes da imagem. Por outro lado, se a imagem Idenoised contiver ruídos visíveis, isso indica que o algoritmo não foi eficaz na remoção do ruído."
   ]
  },
  {
   "cell_type": "markdown",
   "metadata": {},
   "source": [
    "#### bilateral"
   ]
  },
  {
   "cell_type": "code",
   "execution_count": null,
   "metadata": {},
   "outputs": [],
   "source": [
    "dir_bilateral = f'work1/denoising/bilateral/images_filtered'\n",
    "dir_out_bilateral = f'work1/denoising/bilateral/G'\n",
    "\n",
    "# Execution time\n",
    "inicio = time.time()\n",
    "\n",
    "for image in array_images:\n",
    "    # Read the original image from the specified directory\n",
    "    original_image = sitk.ReadImage(f'{dir_images}/{image}')\n",
    "    # Read the filtered image (from bilateral filtering) from the specified directory\n",
    "    filtered_image = sitk.ReadImage(f'{dir_bilateral}/{image}')\n",
    "    # Convert the original image to a NumPy array for processing\n",
    "    image_array = sitk.GetArrayFromImage(original_image)\n",
    "    # Convert the filtered image to a NumPy array for processing\n",
    "    image_array_filtered = sitk.GetArrayFromImage(filtered_image)\n",
    "    # Compute the absolute difference between the original and filtered images\n",
    "    image_g = abs(image_array-image_array_filtered)\n",
    "    # Convert the difference array back to a SimpleITK image\n",
    "    filtered_image = sitk.GetImageFromArray(image_g)\n",
    "    # Save the resulting difference image to the specified output directory\n",
    "    sitk.WriteImage(filtered_image, f'{dir_out_bilateral}/{image}')\n",
    "\n",
    "# Execution time\n",
    "fim = time.time()\n",
    "tempo = fim - inicio\n",
    "print('Execution time: %d seconds \\n'%(tempo))"
   ]
  },
  {
   "cell_type": "markdown",
   "metadata": {},
   "source": [
    "#### anisotropicDiffusion"
   ]
  },
  {
   "cell_type": "code",
   "execution_count": null,
   "metadata": {},
   "outputs": [],
   "source": [
    "dir_anisotropic = f'work1/denoising/anisotropicDiffusion/images_filtered'\n",
    "dir_out_anisotropic = f'work1/denoising/anisotropicDiffusion/G'\n",
    "\n",
    "# Execution time\n",
    "inicio = time.time()\n",
    "\n",
    "for image in array_images:\n",
    "    # Read the original image from the specified directory\n",
    "    original_image = sitk.ReadImage(f'{dir_images}/{image}')\n",
    "    # Read the filtered image (from anisotropic filtering) from the specified directory\n",
    "    filtered_image = sitk.ReadImage(f'{dir_anisotropic}/{image}')\n",
    "    # Convert the original image to a NumPy array for processing\n",
    "    image_array = sitk.GetArrayFromImage(original_image)\n",
    "    # Convert the filtered image to a NumPy array for processing\n",
    "    image_array_filtered = sitk.GetArrayFromImage(filtered_image)\n",
    "    # Compute the absolute difference between the original and filtered images\n",
    "    image_g = abs(image_array-image_array_filtered)\n",
    "    # Convert the difference array back to a SimpleITK image\n",
    "    filtered_image = sitk.GetImageFromArray(image_g)\n",
    "    # Save the resulting difference image to the specified output directory\n",
    "    sitk.WriteImage(filtered_image, f'{dir_out_anisotropic}/{image}')\n",
    "\n",
    "# Execution time\n",
    "fim = time.time()\n",
    "tempo = fim - inicio\n",
    "print('Execution time: %d seconds \\n'%(tempo))\n"
   ]
  },
  {
   "cell_type": "markdown",
   "metadata": {},
   "source": [
    "#### non_local_means"
   ]
  },
  {
   "cell_type": "code",
   "execution_count": null,
   "metadata": {},
   "outputs": [],
   "source": [
    "dir_nlm = f'work1/denoising/non_local_means/images_filtered'\n",
    "dir_out_nlm = f'work1/denoising/non_local_means/G'\n",
    "\n",
    "# Execution time\n",
    "inicio = time.time()\n",
    "\n",
    "for image in array_images:\n",
    "    # Read the original image from the specified directory\n",
    "    original_image = sitk.ReadImage(f'{dir_images}/{image}')\n",
    "    # Read the filtered image (from Non Local Means filtering) from the specified directory\n",
    "    filtered_image = sitk.ReadImage(f'{dir_nlm}/{image}')\n",
    "    # Convert the original image to a NumPy array for processing\n",
    "    image_array = sitk.GetArrayFromImage(original_image)\n",
    "    # Convert the filtered image to a NumPy array for processing\n",
    "    image_array_filtered = sitk.GetArrayFromImage(filtered_image)\n",
    "    # Compute the absolute difference between the original and filtered images\n",
    "    image_g = abs(image_array-image_array_filtered)\n",
    "    # Convert the difference array back to a SimpleITK image\n",
    "    filtered_image = sitk.GetImageFromArray(image_g)\n",
    "    # Save the resulting difference image to the specified output directory\n",
    "    sitk.WriteImage(filtered_image, f'{dir_out_nlm}/{image}')\n",
    "\n",
    "# Execution time\n",
    "fim = time.time()\n",
    "tempo = fim - inicio\n",
    "print('Execution time: %d seconds \\n'%(tempo))\n"
   ]
  }
 ],
 "metadata": {
  "kernelspec": {
   "display_name": ".venv",
   "language": "python",
   "name": "python3"
  },
  "language_info": {
   "codemirror_mode": {
    "name": "ipython",
    "version": 3
   },
   "file_extension": ".py",
   "mimetype": "text/x-python",
   "name": "python",
   "nbconvert_exporter": "python",
   "pygments_lexer": "ipython3",
   "version": "3.9.13"
  }
 },
 "nbformat": 4,
 "nbformat_minor": 2
}
